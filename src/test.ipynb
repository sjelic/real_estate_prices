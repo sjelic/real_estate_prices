{
 "cells": [
  {
   "cell_type": "code",
   "execution_count": 19,
   "metadata": {},
   "outputs": [],
   "source": [
    "import models\n",
    "import pandas as pd\n",
    "from sklearn.pipeline import make_pipeline\n",
    "from preprocess import TypeConverter\n",
    "from splitter import StratifiedRegressionSplit\n",
    "from sklearn.metrics import r2_score"
   ]
  },
  {
   "cell_type": "code",
   "execution_count": 20,
   "metadata": {},
   "outputs": [
    {
     "name": "stderr",
     "output_type": "stream",
     "text": [
      "/tmp/ipykernel_8169/2312949821.py:2: FutureWarning: Inferring datetime64[ns] from data containing strings is deprecated and will be removed in a future version. To retain the old behavior explicitly pass Series(data, dtype=datetime64[ns])\n",
      "  data = pd.read_excel('/root/workspace/clanci/realestate_prices/data/hp_ljubljana_new_with_rooms.xlsx')\n"
     ]
    }
   ],
   "source": [
    "variables = pd.read_excel('/root/workspace/clanci/realestate_prices/data/covariates.xlsx')\n",
    "data = pd.read_excel('/root/workspace/clanci/realestate_prices/data/hp_ljubljana_new_with_rooms.xlsx')\n",
    "\n",
    "variables = variables.to_dict(orient='records')\n",
    "target = []\n",
    "features = []\n",
    "for feature in variables:\n",
    "    feature['type'] = int if feature['type'] == 'int' else float if feature['type'] == 'float' else str\n",
    "    if feature['group'] == 'target':\n",
    "        target = feature\n",
    "        continue\n",
    "    else:\n",
    "        features.append(feature)\n",
    "\n",
    "X = data[[feature['name'] for feature in features]]\n",
    "y = data[target['name']]\n",
    "\n",
    "# PREPROCESS PIPLINE\n",
    "preprocc_pip = make_pipeline(TypeConverter(variables=features))\n",
    "preprocc_pip.fit(X)\n",
    "X = preprocc_pip.transform(X)\n",
    "\n",
    "models.models['Polynomial Regression']['preprocessing_pipline'].fit(X)\n",
    "X = models.models['Polynomial Regression']['preprocessing_pipline'].transform(X)"
   ]
  },
  {
   "cell_type": "code",
   "execution_count": 21,
   "metadata": {},
   "outputs": [
    {
     "name": "stdout",
     "output_type": "stream",
     "text": [
      "-7.608955858100643e+25\n",
      "-5.176809156571062e+22\n",
      "-8.611363475902049e+22\n",
      "-2.495284359637199e+23\n",
      "-6.622818755830587e+23\n",
      "-2.044663727436949e+23\n",
      "-3.7506061240816745e+24\n",
      "-7.077646858835183e+25\n",
      "-9.029537842793505e+22\n",
      "-3.0819308831710436e+23\n"
     ]
    }
   ],
   "source": [
    "cv=StratifiedRegressionSplit(n_splits=10, n_bins = 10, test_size=0.3, random_state=0)\n",
    "\n",
    "for train, test in cv.split(X,y):\n",
    "    model = models.models['Polynomial Regression']['fitting_pipline'].estimator\n",
    "    model.fit(X.loc[train,:], y[train])\n",
    "    y_pred = model.predict(X.loc[test,:])\n",
    "    score = r2_print(score)score(y[test], y_pred)\n",
    "    print(score)\n",
    "    "
   ]
  },
  {
   "cell_type": "code",
   "execution_count": null,
   "metadata": {},
   "outputs": [],
   "source": []
  }
 ],
 "metadata": {
  "kernelspec": {
   "display_name": "Python 3.9.12 ('base')",
   "language": "python",
   "name": "python3"
  },
  "language_info": {
   "codemirror_mode": {
    "name": "ipython",
    "version": 3
   },
   "file_extension": ".py",
   "mimetype": "text/x-python",
   "name": "python",
   "nbconvert_exporter": "python",
   "pygments_lexer": "ipython3",
   "version": "3.9.12"
  },
  "orig_nbformat": 4,
  "vscode": {
   "interpreter": {
    "hash": "d4d1e4263499bec80672ea0156c357c1ee493ec2b1c70f0acce89fc37c4a6abe"
   }
  }
 },
 "nbformat": 4,
 "nbformat_minor": 2
}
