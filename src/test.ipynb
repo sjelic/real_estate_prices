{
 "cells": [
  {
   "cell_type": "code",
   "execution_count": 1,
   "metadata": {},
   "outputs": [],
   "source": [
    "import models\n",
    "import pandas as pd\n",
    "from sklearn.pipeline import make_pipeline\n",
    "from preprocess import TypeConverter, KBinsDiscretizerWithNames, OneHotEncoderOnlyCategorical\n",
    "from splitter import StratifiedRegressionSplit\n",
    "from sklearn.metrics import r2_score\n",
    "import numpy as np"
   ]
  },
  {
   "cell_type": "code",
   "execution_count": 2,
   "metadata": {},
   "outputs": [
    {
     "name": "stderr",
     "output_type": "stream",
     "text": [
      "/home/sjelic/real_estate_prices/.venv/lib/python3.8/site-packages/sklearn/preprocessing/_discretization.py:322: UserWarning: Bins whose width are too small (i.e., <= 1e-8) in feature 22 are removed. Consider decreasing the number of bins.\n",
      "  warnings.warn(\n"
     ]
    }
   ],
   "source": [
    "variables = pd.read_excel('../data/covariates.xlsx')\n",
    "data = pd.read_excel('../data/hp_ljubljana_new_with_rooms.xlsx')\n",
    "\n",
    "variables = variables.to_dict(orient='records')\n",
    "\n",
    "target = []\n",
    "features = []\n",
    "for feature in variables:\n",
    "    feature['type'] = int if feature['type'] == 'int' else float if feature['type'] == 'float' else str\n",
    "    if feature['group'] == 'target':\n",
    "        target = feature\n",
    "        continue\n",
    "    else:\n",
    "        features.append(feature)\n",
    "\n",
    "X = data[[feature['name'] for feature in features]]\n",
    "y = data[target['name']]\n",
    "\n",
    "# PREPROCESS PIPLINE\n",
    "preprocc_pip = make_pipeline(TypeConverter(variables=features), KBinsDiscretizerWithNames(\n",
    "                            encode='onehot-dense',\n",
    "                            strategy='quantile',\n",
    "                            random_state=0,\n",
    "                            n_bins=2),\n",
    "            OneHotEncoderOnlyCategorical())\n",
    "preprocc_pip.fit(X)\n",
    "X = preprocc_pip.transform(X)\n",
    "\n",
    "\n"
   ]
  },
  {
   "cell_type": "code",
   "execution_count": 3,
   "metadata": {},
   "outputs": [],
   "source": [
    "categorical_features = { n: t for n, t in X.dtypes.to_dict().items() if t in [ np.dtype('O') ]}\n",
    "numerical_features = { n: t for n, t in X.dtypes.to_dict().items() if t not in [ np.dtype('O') ]}\n",
    "cat_cols = list(categorical_features.keys())\n",
    "num_cols = list(numerical_features.keys())\n",
    "bin_num_cols = []\n",
    "nonbin_num_cols = []\n",
    "for num_col in num_cols:\n",
    "    is_bin = True\n",
    "    for val in X[num_col]:\n",
    "        if (np.abs(1-val) > 1e-3) and (np.abs(val) > 1e-3):\n",
    "            is_bin = False\n",
    "    \n",
    "    if is_bin:\n",
    "        bin_num_cols.append(num_col)\n",
    "    else:\n",
    "        nonbin_num_cols.append(num_col)\n",
    "\n",
    "binary_numerical_features = { n: t for n, t in X.dtypes.to_dict().items() if n in bin_num_cols}\n",
    "nonbinary_numerical_features = { n: t for n, t in X.dtypes.to_dict().items() if n in nonbin_num_cols}\n",
    "\n",
    "feature_names_in_ = np.array(X.columns, dtype=object)\n",
    "n_features_in_ = len(feature_names_in_)\n",
    "# return self"
   ]
  },
  {
   "cell_type": "code",
   "execution_count": 6,
   "metadata": {},
   "outputs": [
    {
     "data": {
      "text/plain": [
       "['dist_airport_[11175.8671875, 18748.06640625)',\n",
       " 'dist_airport_[18748.06640625, 25051.1484375)',\n",
       " 'dist_highway_entr_[100.0, 1431.78210449219)',\n",
       " 'dist_highway_entr_[1431.78210449219, 4341.65869140625)',\n",
       " 'dist_main_roads_[0.0, 200.0)',\n",
       " 'dist_main_roads_[200.0, 4110.9609375)',\n",
       " 'dist_public_transport_[0.0, 200.0)',\n",
       " 'dist_public_transport_[200.0, 4134.00537109375)',\n",
       " 'dist_recreation_[100.0, 1044.03063964844)',\n",
       " 'dist_recreation_[1044.03063964844, 5280.1513671875)',\n",
       " 'dist_regional_roads_[0.0, 2061.552734375)',\n",
       " 'dist_regional_roads_[2061.552734375, 3676.95532226562)',\n",
       " 'dist_river_[0.0, 583.09521484375)',\n",
       " 'dist_river_[583.09521484375, 2308.67919921875)',\n",
       " 'dist_schools_[0.0, 200.0)',\n",
       " 'dist_schools_[200.0, 3600.0)',\n",
       " 'construct_age_[0.0, 13327.0)',\n",
       " 'construct_age_[13327.0, 74325.0)',\n",
       " 'facade_age_[0.0, 11792.0)',\n",
       " 'facade_age_[11792.0, 66580.0)',\n",
       " 'inst_age_[0.0, 11912.0)',\n",
       " 'inst_age_[11912.0, 67040.0)',\n",
       " 'roof_age_[0.0, 7603.0)',\n",
       " 'roof_age_[7603.0, 66580.0)',\n",
       " 'windows_age_[0.0, 9899.0)',\n",
       " 'windows_age_[9899.0, 73790.0)',\n",
       " 'dist_highway_[0.0, 1280.62487792969)',\n",
       " 'dist_highway_[1280.62487792969, 3982.46166992188)',\n",
       " 'dist_railway_[0.0, 412.310577392578)',\n",
       " 'dist_railway_[412.310577392578, 3944.61669921875)',\n",
       " 'elevation_[267.0, 297.0)',\n",
       " 'elevation_[297.0, 348.0)',\n",
       " 'easting_[456717.73, 462450.71)',\n",
       " 'easting_[462450.71, 470922.1)',\n",
       " 'id_building_[1.0, 2844.0)',\n",
       " 'id_building_[2844.0, 5687.0)',\n",
       " 'id_cadas_com_[1695.0, 1738.0)',\n",
       " 'id_cadas_com_[1738.0, 2706.0)',\n",
       " 'northing_[95473.47, 102307.05)',\n",
       " 'northing_[102307.05, 110707.21)',\n",
       " 'floor_above_ground_[1.0, 2.0)',\n",
       " 'floor_above_ground_[2.0, 23.0)',\n",
       " 'floor_appartment_[1.0, 2.0)',\n",
       " 'floor_appartment_[2.0, 23.0)',\n",
       " 'floor_entrance_[1.0, 5.0)',\n",
       " 'floors_total_[1.0, 7.0)',\n",
       " 'floors_total_[7.0, 25.0)',\n",
       " 'living_area_[15.1, 51.2)',\n",
       " 'living_area_[51.2, 194.5)',\n",
       " 'no_appart_[3.0, 46.0)',\n",
       " 'no_appart_[46.0, 451.0)',\n",
       " 'no_rooms_[1.0, 2.0)',\n",
       " 'no_rooms_[2.0, 25.0)',\n",
       " 'total_area_[16.1, 57.9)',\n",
       " 'total_area_[57.9, 418.7)',\n",
       " 'constr_type_brick',\n",
       " 'constr_type_combination_of_different_materials',\n",
       " 'constr_type_concrete',\n",
       " 'constr_type_metal_construction',\n",
       " 'constr_type_other_material',\n",
       " 'constr_type_prefabricated_construction',\n",
       " 'constr_type_stone',\n",
       " 'constr_type_wood',\n",
       " 'duplex_no',\n",
       " 'duplex_yes',\n",
       " 'elevator_no',\n",
       " 'elevator_yes',\n",
       " 'house_type_double',\n",
       " 'house_type_other',\n",
       " 'house_type_raw',\n",
       " 'house_type_single',\n",
       " 'postion_type_attics',\n",
       " 'postion_type_basement',\n",
       " 'postion_type_floor',\n",
       " 'postion_type_ground_floor',\n",
       " 'postion_type_other']"
      ]
     },
     "execution_count": 6,
     "metadata": {},
     "output_type": "execute_result"
    }
   ],
   "source": [
    "bin_num_cols"
   ]
  },
  {
   "cell_type": "code",
   "execution_count": null,
   "metadata": {},
   "outputs": [],
   "source": []
  }
 ],
 "metadata": {
  "kernelspec": {
   "display_name": "Python 3.9.12 ('base')",
   "language": "python",
   "name": "python3"
  },
  "language_info": {
   "codemirror_mode": {
    "name": "ipython",
    "version": 3
   },
   "file_extension": ".py",
   "mimetype": "text/x-python",
   "name": "python",
   "nbconvert_exporter": "python",
   "pygments_lexer": "ipython3",
   "version": "3.8.10"
  },
  "orig_nbformat": 4,
  "vscode": {
   "interpreter": {
    "hash": "d4d1e4263499bec80672ea0156c357c1ee493ec2b1c70f0acce89fc37c4a6abe"
   }
  }
 },
 "nbformat": 4,
 "nbformat_minor": 2
}
