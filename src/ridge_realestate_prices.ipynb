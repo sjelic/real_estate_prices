{
 "cells": [
  {
   "cell_type": "code",
   "execution_count": null,
   "metadata": {},
   "outputs": [],
   "source": [
    "import sklearn as skl\n",
    "import matplotlib.pyplot as plt\n",
    "import pandas as pd\n",
    "from sklearn import pipeline\n",
    "from sklearn.preprocessing import StandardScaler, OneHotEncoder\n",
    "from sklearn.model_selection import train_test_split\n",
    "from sklearn.pipeline import Pipeline\n",
    "from sklearn import linear_model\n",
    "from sklearn.metrics import make_scorer\n",
    "from matplotlib.widgets import Lasso\n",
    "from sklearn.pipeline import make_pipeline\n",
    "from sklearn.preprocessing import MinMaxScaler\n",
    "from sklearn.model_selection import cross_validate, ShuffleSplit, GridSearchCV\n",
    "import numpy as np\n",
    "import json\n",
    "from functools import reduce\n",
    "from custom import StratifiedRegressionSplit\n"
   ]
  },
  {
   "cell_type": "markdown",
   "metadata": {},
   "source": [
    "# Real estate prices"
   ]
  },
  {
   "cell_type": "markdown",
   "metadata": {},
   "source": []
  },
  {
   "cell_type": "code",
   "execution_count": null,
   "metadata": {},
   "outputs": [],
   "source": [
    "variables = pd.read_excel('../data/covariates.xlsx')\n",
    "variables = variables.to_dict(orient='records')\n",
    "targets = []\n",
    "features = []\n",
    "next = 0\n",
    "for feature in variables:\n",
    "    feature['type'] = int if feature['type'] == 'int' else float if feature['type'] == 'float' else str\n",
    "    if feature['group'] == 'target':\n",
    "        targets.append(feature)\n",
    "        continue\n",
    "    else:\n",
    "        features.append(feature)"
   ]
  },
  {
   "cell_type": "markdown",
   "metadata": {},
   "source": [
    "## Dataset"
   ]
  },
  {
   "cell_type": "code",
   "execution_count": null,
   "metadata": {},
   "outputs": [],
   "source": [
    "\n",
    "data = pd.read_excel('../data/hp_ljubljana_new_with_rooms.xlsx')\n",
    "feature_names = [x['name'] for x in features]\n",
    "target_names = [x['name'] for x in targets]\n",
    "data = data[feature_names + target_names]\n",
    "\n",
    "\n",
    "exclude_features_names = []\n",
    "categorical_features = [x for x in features if  (x['type'] == str) and (x not in exclude_features_names)]\n",
    "categorical_features_names = [x['name'] for x in categorical_features]\n",
    "numerical_features = [x for x in features if  (x['type'] in (int, float)) and (x not in exclude_features_names)]\n",
    "numerical_features_names = [x['name'] for x in numerical_features]\n",
    "\n",
    "# target = {'name': 'price_m2', 'type': float}\n",
    "\n",
    "onehot = OneHotEncoder(sparse=False)\n",
    "onehot.fit(data[categorical_features_names])\n",
    "encoded_features = list(reduce(lambda x,y: x + y, [[{\"name\": f\"{feature['name']}_{cat}\", \"type\": int, \"group\": feature['group']} for cat in cats] for cats, feature in zip(onehot.categories_, categorical_features)]))\n",
    "encoded_features_names = [x['name'] for x in encoded_features]\n",
    "\n",
    "X_encoded = onehot.transform(data[categorical_features_names])\n",
    "X_numerical = data[numerical_features_names]\n",
    "X = pd.DataFrame(columns=numerical_features_names + encoded_features_names)\n",
    "\n",
    "\n",
    "X[numerical_features_names] = X_numerical\n",
    "X[encoded_features_names] = X_encoded\n",
    "X = X.astype({x['name'] : x['type'] for x in numerical_features + encoded_features})\n",
    "if len(target_names)==1:\n",
    "    y = data[target_names[0]]\n",
    "    y = y.astype({targets[0]['name'] : targets[0]['type']})\n",
    "else:\n",
    "    y = data[target_names]\n",
    "    y = y.astype({x['name'] : x['type'] for x in targets})\n",
    "# # y = (y - y.std())/ y.mean()\n"
   ]
  },
  {
   "cell_type": "markdown",
   "metadata": {},
   "source": [
    "## Ridge Regression"
   ]
  },
  {
   "cell_type": "code",
   "execution_count": null,
   "metadata": {},
   "outputs": [],
   "source": [
    "# ridge = linear_model.Ridge(alpha = 2)\n",
    "def cod(y_true, y_pred):\n",
    "        ratios = np.array(y_pred)/np.array(y_true)\n",
    "        median = np.median(ratios)\n",
    "        abs_dev = np.abs(ratios - median)\n",
    "        return  (100*np.mean(abs_dev))/np.abs(median)\n",
    "\n",
    "def mape(y_true, y_pred):\n",
    "        rel_errors = np.abs((np.array(y_true) - np.array(y_pred))/(1e-10 + np.array(y_pred)))\n",
    "        return  100*np.mean(rel_errors)\n",
    "\n",
    "scoring = {'r2': 'r2',\n",
    "           'cod': make_scorer(cod, greater_is_better=False),\n",
    "           'mape': make_scorer(mape, greater_is_better=False)}\n",
    "\n",
    "gs = GridSearchCV(\n",
    "        estimator=make_pipeline(StandardScaler(), linear_model.Ridge()),\n",
    "        param_grid={'ridge__alpha': list(np.arange(1,20,0.2)) },\n",
    "        scoring=scoring,\n",
    "        refit='r2',\n",
    "        cv=StratifiedRegressionSplit(n_splits=10, n_bins = 10, test_size=0.3, random_state=0)\n",
    ")\n",
    "\n",
    "gs_all_metric_results = gs.fit(X,y)\n"
   ]
  },
  {
   "cell_type": "code",
   "execution_count": null,
   "metadata": {},
   "outputs": [],
   "source": [
    "\n",
    "gs_crossvalidation_results = pd.DataFrame(gs_all_metric_results.cv_results_)\n",
    "reg_coefs = pd.DataFrame({feature: [coef] for feature, coef in zip(['intercept'] + list(gs_all_metric_results.feature_names_in_) , [gs_all_metric_results.best_estimator_.steps[1][1].intercept_] + list(gs_all_metric_results.best_estimator_.steps[1][1].coef_))})\n",
    "reg_coefs.to_excel('../results/ridge_reg_coefs.xlsx', index=False)\n",
    "gs_crossvalidation_results.to_excel('../results/ridge_cv_results.xlsx', index=False)"
   ]
  },
  {
   "cell_type": "code",
   "execution_count": null,
   "metadata": {},
   "outputs": [],
   "source": [
    "print(\n",
    "    f\"\"\"\n",
    "    EVALUATION METRICS:\n",
    "        Best alpha: {gs_all_metric_results.best_params_['ridge__alpha']},\n",
    "        Test mean r2: {gs_crossvalidation_results.loc[gs_all_metric_results.best_index_,'mean_test_r2']},\n",
    "        Test std r2: {gs_crossvalidation_results.loc[gs_all_metric_results.best_index_,'std_test_r2']},\n",
    "        Test mean cod: {-gs_crossvalidation_results.loc[gs_all_metric_results.best_index_,'mean_test_cod']},\n",
    "        Test std cod: {gs_crossvalidation_results.loc[gs_all_metric_results.best_index_,'std_test_cod']},\n",
    "        Test mean mape: {-gs_crossvalidation_results.loc[gs_all_metric_results.best_index_,'mean_test_mape']},\n",
    "        Test std mape: {gs_crossvalidation_results.loc[gs_all_metric_results.best_index_,'std_test_mape']}\n",
    "    \"\"\"\n",
    ")\n",
    "lasso_metrics = {\n",
    "    'best_alpha': gs_all_metric_results.best_params_['ridge__alpha'],\n",
    "    'test_mean_r2': gs_crossvalidation_results.loc[gs_all_metric_results.best_index_,'mean_test_r2'],\n",
    "    'test_std_r2': gs_crossvalidation_results.loc[gs_all_metric_results.best_index_,'std_test_r2'],\n",
    "    'test_mean_cod': -gs_crossvalidation_results.loc[gs_all_metric_results.best_index_,'mean_test_cod'],\n",
    "    'test_std_cod': gs_crossvalidation_results.loc[gs_all_metric_results.best_index_,'std_test_cod'],\n",
    "    'test_mean_mape': -gs_crossvalidation_results.loc[gs_all_metric_results.best_index_,'mean_test_mape'],\n",
    "    'test_std_mape': gs_crossvalidation_results.loc[gs_all_metric_results.best_index_,'std_test_mape'],\n",
    "}\n",
    "with open('../results/ridge_metrics.json', 'w') as f:\n",
    "    json.dump(lasso_metrics, f)"
   ]
  }
 ],
 "metadata": {
  "kernelspec": {
   "display_name": "Python 3.9.12 ('base')",
   "language": "python",
   "name": "python3"
  },
  "language_info": {
   "codemirror_mode": {
    "name": "ipython",
    "version": 3
   },
   "file_extension": ".py",
   "mimetype": "text/x-python",
   "name": "python",
   "nbconvert_exporter": "python",
   "pygments_lexer": "ipython3",
   "version": "3.9.12"
  },
  "orig_nbformat": 4,
  "vscode": {
   "interpreter": {
    "hash": "d4d1e4263499bec80672ea0156c357c1ee493ec2b1c70f0acce89fc37c4a6abe"
   }
  }
 },
 "nbformat": 4,
 "nbformat_minor": 2
}
