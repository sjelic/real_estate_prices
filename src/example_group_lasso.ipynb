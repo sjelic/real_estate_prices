{
  "cells": [
    {
      "cell_type": "code",
      "execution_count": null,
      "metadata": {
        "collapsed": false
      },
      "outputs": [],
      "source": [
        "%matplotlib inline"
      ]
    },
    {
      "cell_type": "markdown",
      "metadata": {},
      "source": [
        "\n",
        "# GroupLasso for linear regression\n",
        "\n",
        "A sample script for group lasso regression\n"
      ]
    },
    {
      "cell_type": "markdown",
      "metadata": {},
      "source": [
        "## Setup\n",
        "\n"
      ]
    },
    {
      "cell_type": "code",
      "execution_count": null,
      "metadata": {
        "collapsed": false
      },
      "outputs": [],
      "source": [
        "import matplotlib.pyplot as plt\n",
        "import numpy as np\n",
        "from sklearn.metrics import r2_score\n",
        "\n",
        "from group_lasso import GroupLasso\n",
        "\n",
        "np.random.seed(0)\n",
        "GroupLasso.LOG_LOSSES = True"
      ]
    },
    {
      "cell_type": "markdown",
      "metadata": {},
      "source": [
        "## Set dataset parameters\n",
        "\n"
      ]
    },
    {
      "cell_type": "code",
      "execution_count": null,
      "metadata": {
        "collapsed": false
      },
      "outputs": [],
      "source": [
        "group_sizes = [np.random.randint(10, 20) for i in range(50)]\n",
        "active_groups = [np.random.randint(2) for _ in group_sizes]\n",
        "groups = np.concatenate(\n",
        "    [size * [i] for i, size in enumerate(group_sizes)]\n",
        ").reshape(-1, 1)\n",
        "num_coeffs = sum(group_sizes)\n",
        "num_datapoints = 10000\n",
        "noise_std = 20"
      ]
    },
    {
      "cell_type": "markdown",
      "metadata": {},
      "source": [
        "## Generate data matrix\n",
        "\n"
      ]
    },
    {
      "cell_type": "code",
      "execution_count": null,
      "metadata": {
        "collapsed": false
      },
      "outputs": [],
      "source": [
        "X = np.random.standard_normal((num_datapoints, num_coeffs))"
      ]
    },
    {
      "cell_type": "markdown",
      "metadata": {},
      "source": [
        "## Generate coefficients\n",
        "\n"
      ]
    },
    {
      "cell_type": "code",
      "execution_count": null,
      "metadata": {
        "collapsed": false
      },
      "outputs": [],
      "source": [
        "w = np.concatenate(\n",
        "    [\n",
        "        np.random.standard_normal(group_size) * is_active\n",
        "        for group_size, is_active in zip(group_sizes, active_groups)\n",
        "    ]\n",
        ")\n",
        "w = w.reshape(-1, 1)\n",
        "true_coefficient_mask = w != 0\n",
        "intercept = 2"
      ]
    },
    {
      "cell_type": "markdown",
      "metadata": {},
      "source": [
        "## Generate regression targets\n",
        "\n"
      ]
    },
    {
      "cell_type": "code",
      "execution_count": null,
      "metadata": {
        "collapsed": false
      },
      "outputs": [],
      "source": [
        "y_true = X @ w + intercept\n",
        "y = y_true + np.random.randn(*y_true.shape) * noise_std"
      ]
    },
    {
      "cell_type": "markdown",
      "metadata": {},
      "source": [
        "## View noisy data and compute maximum R^2\n",
        "\n"
      ]
    },
    {
      "cell_type": "code",
      "execution_count": null,
      "metadata": {
        "collapsed": false
      },
      "outputs": [],
      "source": [
        "plt.figure()\n",
        "plt.plot(y, y_true, \".\")\n",
        "plt.xlabel(\"Noisy targets\")\n",
        "plt.ylabel(\"Noise-free targets\")\n",
        "# Use noisy y as true because that is what we would have access\n",
        "# to in a real-life setting.\n",
        "R2_best = r2_score(y, y_true)"
      ]
    },
    {
      "cell_type": "markdown",
      "metadata": {},
      "source": [
        "## Generate estimator and train it\n",
        "\n"
      ]
    },
    {
      "cell_type": "code",
      "execution_count": null,
      "metadata": {
        "collapsed": false
      },
      "outputs": [],
      "source": [
        "gl = GroupLasso(\n",
        "    groups=groups,\n",
        "    group_reg=5,\n",
        "    l1_reg=0,\n",
        "    frobenius_lipschitz=True,\n",
        "    scale_reg=\"inverse_group_size\",\n",
        "    subsampling_scheme=1,\n",
        "    supress_warning=True,\n",
        "    n_iter=1000,\n",
        "    tol=1e-3,\n",
        ")\n",
        "gl.fit(X, y)"
      ]
    },
    {
      "cell_type": "markdown",
      "metadata": {},
      "source": [
        "## Extract results and compute performance metrics\n",
        "\n"
      ]
    },
    {
      "cell_type": "code",
      "execution_count": null,
      "metadata": {
        "collapsed": false
      },
      "outputs": [],
      "source": [
        "# Extract info from estimator\n",
        "yhat = gl.predict(X)\n",
        "sparsity_mask = gl.sparsity_mask_\n",
        "w_hat = gl.coef_\n",
        "\n",
        "# Compute performance metrics\n",
        "R2 = r2_score(y, yhat)\n",
        "\n",
        "# Print results\n",
        "print(f\"Number variables: {len(sparsity_mask)}\")\n",
        "print(f\"Number of chosen variables: {sparsity_mask.sum()}\")\n",
        "print(f\"R^2: {R2}, best possible R^2 = {R2_best}\")"
      ]
    },
    {
      "cell_type": "markdown",
      "metadata": {},
      "source": [
        "## Visualise regression coefficients\n",
        "\n"
      ]
    },
    {
      "cell_type": "code",
      "execution_count": null,
      "metadata": {
        "collapsed": false
      },
      "outputs": [],
      "source": [
        "plt.figure()\n",
        "plt.plot(w, \".\", label=\"True weights\")\n",
        "plt.plot(w_hat, \".\", label=\"Estimated weights\")\n",
        "\n",
        "plt.figure()\n",
        "plt.plot([w.min(), w.max()], [w_hat.min(), w_hat.max()], \"gray\")\n",
        "plt.scatter(w, w_hat, s=10)\n",
        "plt.ylabel(\"Learned coefficients\")\n",
        "plt.xlabel(\"True coefficients\")\n",
        "\n",
        "plt.figure()\n",
        "plt.plot(gl.losses_)\n",
        "plt.title(\"Loss plot\")\n",
        "plt.ylabel(\"Mean squared error\")\n",
        "plt.xlabel(\"Iteration\")\n",
        "\n",
        "print(\"X shape: {X.shape}\".format(X=X))\n",
        "print(\"True intercept: {intercept}\".format(intercept=intercept))\n",
        "print(\"Estimated intercept: {intercept}\".format(intercept=gl.intercept_))\n",
        "plt.show()"
      ]
    }
  ],
  "metadata": {
    "kernelspec": {
      "display_name": "Python 3.9.12 ('base')",
      "language": "python",
      "name": "python3"
    },
    "language_info": {
      "codemirror_mode": {
        "name": "ipython",
        "version": 3
      },
      "file_extension": ".py",
      "mimetype": "text/x-python",
      "name": "python",
      "nbconvert_exporter": "python",
      "pygments_lexer": "ipython3",
      "version": "3.9.12"
    },
    "vscode": {
      "interpreter": {
        "hash": "d4d1e4263499bec80672ea0156c357c1ee493ec2b1c70f0acce89fc37c4a6abe"
      }
    }
  },
  "nbformat": 4,
  "nbformat_minor": 0
}
